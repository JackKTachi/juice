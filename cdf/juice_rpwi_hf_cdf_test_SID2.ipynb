{
 "cells": [
  {
   "attachments": {},
   "cell_type": "markdown",
   "metadata": {},
   "source": [
    "# Import CDF lib"
   ]
  },
  {
   "cell_type": "code",
   "execution_count": 1,
   "metadata": {},
   "outputs": [],
   "source": [
    "# The latest CDF library https://spdf.gsfc.nasa.gov/pub/software/cdf/dist/latest/\n",
    "from spacepy import pycdf\n",
    "import os\n",
    "os.environ[\"CDF_LIB\"] = \"C:\\\\Program Files\\\\CDF_Distribution\\\\cdf39_0-dist\\\\lib\""
   ]
  },
  {
   "attachments": {},
   "cell_type": "markdown",
   "metadata": {},
   "source": [
    "# Import local lib"
   ]
  },
  {
   "cell_type": "code",
   "execution_count": 2,
   "metadata": {},
   "outputs": [],
   "source": [
    "import sys\n",
    "\n",
    "# import JUICE lib\n",
    "sys.path.append('../lib/')\n",
    "\n",
    "import juice_cdf_lib as juice_cdf"
   ]
  },
  {
   "cell_type": "code",
   "execution_count": 3,
   "metadata": {},
   "outputs": [],
   "source": [
    "import matplotlib.pyplot as plt\n",
    "import numpy as np"
   ]
  },
  {
   "attachments": {},
   "cell_type": "markdown",
   "metadata": {},
   "source": [
    "# Read CDF file"
   ]
  },
  {
   "cell_type": "code",
   "execution_count": 4,
   "metadata": {},
   "outputs": [],
   "source": [
    "#data_dir = 'C:\\\\Users\\\\tsuch\\VSCode\\\\python\\\\juice\\\\data\\\\Data-sample-v0.2.0\\\\'\n",
    "#cdf_file = data_dir + 'JUICE_L1a_RPWI-HF-SID2_20000101T000459-20000101T000700_V01___HF_20210920-1007.ccs.cdf'\n",
    "#cdf_file = data_dir + 'JUICE_L1a_RPWI-HF-SID2_20230419T135849-20230419T141229_V01___RPR1_52000000_2023.109.16.17.21.607.cdf'\n",
    "#cdf_file = data_dir + 'JUICE_L1a_RPWI-HF-SID2_20230419T141231-20230419T141402_V01___RPR1_52000001_2023.109.17.51.54.600'\n",
    "\n",
    "#cdf_file = data_dir + 'JUICE_L1a_RPWI-HF-SID2_20000101T000459-20000101T000700_V01_v0.2.2-new.cdf'\n",
    "#cdf_file = data_dir + 'JUICE_L1a_RPWI-HF-SID2_20230419T141231-20230419T141402_V01_v0.2.2-new.cdf'\n",
    "\n",
    "#data_dir = 'C:\\\\share\\\\Linux\\\\RESULTS\\\\SID2_test_202306\\\\OUTPUT\\\\RPWI_S8_272_2023_06_19_14_49_06_32_1F\\\\ARC\\\\TMIDX_00000.bin\\\\'\n",
    "#cdf_file = data_dir + \\\n",
    "#    'JUICE_L1a_RPWI-HF-SID2_20000101T000304-20000101T000308_V01___TMIDX_00000.bin.cdf'\n",
    "#data_dir = 'C:\\\\share\\\\Linux\\\\RESULTS\\\\SID2_test_202306\\\\OUTPUT\\\\RPWI_S8_272_2023_06_19_14_58_37_64_3F\\\\ARC\\\\TMIDX_00000.bin\\\\'\n",
    "#cdf_file = data_dir + \\\n",
    "#    'JUICE_L1a_RPWI-HF-SID2_20000101T000150-20000101T000154_V01___TMIDX_00000.bin.cdf'\n",
    "\n",
    "data_dir = 'C:\\\\Users\\\\tsuch\\VSCode\\\\python\\\\juice\\\\data\\\\SID2_20230619\\\\'\n",
    "data_name = 'JUICE_L1a_RPWI-HF-SID2_20000101T000131-20000101T000139_V01___TMIDX_00000.bin.cdf'\n",
    "\n",
    "\n",
    "cdf = pycdf.CDF(data_dir+data_name)\n"
   ]
  },
  {
   "attachments": {},
   "cell_type": "markdown",
   "metadata": {},
   "source": [
    "get waveform"
   ]
  },
  {
   "cell_type": "code",
   "execution_count": 5,
   "metadata": {},
   "outputs": [],
   "source": [
    "data = juice_cdf.juice_getdata_hf_sid02(cdf)"
   ]
  },
  {
   "cell_type": "code",
   "execution_count": 6,
   "metadata": {},
   "outputs": [
    {
     "data": {
      "text/plain": [
       "<CDF:\n",
       "BG_downlink: CDF_UINT1 [28]\n",
       "BG_select: CDF_UINT1 [28]\n",
       "BG_subtract: CDF_UINT1 [28]\n",
       "Epoch: CDF_TIME_TT2000 [28]\n",
       "Eu_i: CDF_REAL4 [28, 32768]\n",
       "Eu_q: CDF_REAL4 [28, 32768]\n",
       "Ev_i: CDF_REAL4 [28, 32768]\n",
       "Ev_q: CDF_REAL4 [28, 32768]\n",
       "Ew_i: CDF_REAL4 [28, 32768]\n",
       "Ew_q: CDF_REAL4 [28, 32768]\n",
       "FFT_window: CDF_UINT1 [28]\n",
       "N_block: CDF_UINT1 [28]\n",
       "N_samp: CDF_UINT2 [28]\n",
       "N_step: CDF_UINT2 [28]\n",
       "Pol_sep_SW: CDF_UINT1 [28]\n",
       "Pol_sep_thres: CDF_UINT1 [28]\n",
       "RFI_rejection: CDF_UINT1 [28]\n",
       "SCET: CDF_REAL8 [28]\n",
       "T_HF_FPGA: CDF_INT2 [28]\n",
       "T_RWI_U: CDF_INT2 [28]\n",
       "T_RWI_W: CDF_INT2 [28]\n",
       "U_selected: CDF_UINT1 [28]\n",
       "V_selected: CDF_UINT1 [28]\n",
       "W_selected: CDF_UINT1 [28]\n",
       "cal_signal: CDF_UINT1 [28]\n",
       "complex: CDF_UINT1 [28]\n",
       "decimation: CDF_UINT1 [28]\n",
       "freq_step: CDF_REAL4 [28, 32768]\n",
       "freq_width: CDF_REAL4 [28, 32768]\n",
       "frequency: CDF_REAL4 [28, 32768]\n",
       "header_size: CDF_UINT1 [28]\n",
       "onboard_cal: CDF_UINT1 [28]\n",
       "overflow: CDF_UINT1 [28, 32768]\n",
       "overflow_U: CDF_UINT1 [28]\n",
       "overflow_V: CDF_UINT1 [28]\n",
       "overflow_W: CDF_UINT1 [28]\n",
       "pol: CDF_UINT1 [28]\n",
       "pps_count: CDF_UINT1 [28, 32768]\n",
       "proc_param0: CDF_UINT1 [28]\n",
       "proc_param1: CDF_UINT1 [28]\n",
       "proc_param2: CDF_UINT1 [28]\n",
       "proc_param3: CDF_UINT1 [28]\n",
       "reduction: CDF_UINT1 [28, 32768]\n",
       "sweep_start: CDF_UINT1 [28, 32768]\n",
       "sweep_table: CDF_UINT1 [28]\n",
       "time: CDF_REAL4 [28, 32768]\n",
       ">"
      ]
     },
     "execution_count": 6,
     "metadata": {},
     "output_type": "execute_result"
    }
   ],
   "source": [
    "cdf"
   ]
  },
  {
   "attachments": {},
   "cell_type": "markdown",
   "metadata": {},
   "source": [
    "get power spectra"
   ]
  },
  {
   "cell_type": "code",
   "execution_count": null,
   "metadata": {},
   "outputs": [],
   "source": [
    "spec = juice_cdf.juice_getspec_hf_sid02(data)\n",
    "\n",
    "# Conversion factor (Raw value @ ADC input to dBm)\n",
    "cf = -104.1\n",
    "\n",
    "spec.Eu_power_dBm = 10.0*np.log10(spec.Eu_power) + cf\n",
    "spec.Ev_power_dBm = 10.0*np.log10(spec.Ev_power) + cf\n",
    "spec.Ew_power_dBm = 10.0*np.log10(spec.Ew_power) + cf"
   ]
  },
  {
   "attachments": {},
   "cell_type": "markdown",
   "metadata": {},
   "source": [
    "# Plot raw waveform"
   ]
  },
  {
   "cell_type": "code",
   "execution_count": 7,
   "metadata": {},
   "outputs": [
    {
     "data": {
      "text/plain": [
       "<bound method Figure.show of <Figure size 576x576 with 3 Axes>>"
      ]
     },
     "execution_count": 7,
     "metadata": {},
     "output_type": "execute_result"
    },
    {
     "data": {
      "image/png": "[encoded data removed]",
      "text/plain": [
       "<Figure size 576x576 with 3 Axes>"
      ]
     },
     "metadata": {
      "needs_background": "light"
     },
     "output_type": "display_data"
    }
   ],
   "source": [
    "fig = plt.figure(figsize=(8, 8))\n",
    "ax1 = fig.add_subplot(3, 1, 1)\n",
    "ax2 = fig.add_subplot(3, 1, 2)\n",
    "ax3 = fig.add_subplot(3, 1, 3)\n",
    "ax1.plot(data.Eu_i[0][:], '-r')\n",
    "ax1.plot(data.Eu_q[0][:], '-g')\n",
    "ax2.plot(data.frequency[0][:])\n",
    "ax3.plot(data.sweep_start[0][:])\n",
    "ax3.plot(data.sweep_start[1][:])\n",
    "ax3.plot(data.sweep_start[2][:])\n",
    "\n",
    "ax3.set_xlabel('data number')\n",
    "ax1.set_ylabel('Eu_i, Eu_q')\n",
    "ax2.set_ylabel('Freq[kHz]')\n",
    "ax3.set_ylabel('Sweep Start')\n",
    "\n",
    "#xlim=[-100,80000]\n",
    "#ax1.set_xlim(xlim)\n",
    "#ax2.set_xlim(xlim)\n",
    "#ax3.set_xlim(xlim)\n",
    "fig.show"
   ]
  },
  {
   "attachments": {},
   "cell_type": "markdown",
   "metadata": {},
   "source": [
    "# Plot spectra"
   ]
  },
  {
   "attachments": {},
   "cell_type": "markdown",
   "metadata": {},
   "source": [
    "Frequency vs. Power"
   ]
  },
  {
   "cell_type": "code",
   "execution_count": null,
   "metadata": {},
   "outputs": [],
   "source": [
    "plt.plot(spec.frequency, spec.Eu_power_dBm[:, 0])\n",
    "plt.plot(spec.frequency, spec.Ev_power_dBm[:, 0])\n",
    "plt.plot(spec.frequency, spec.Ew_power_dBm[:, 0])\n",
    "\n",
    "plt.xlabel('Frequency [kHz]')\n",
    "plt.ylabel('Power [dBm@ADC input]')\n",
    "\n",
    "plt.show()"
   ]
  },
  {
   "attachments": {},
   "cell_type": "markdown",
   "metadata": {},
   "source": [
    "ft diagram"
   ]
  },
  {
   "cell_type": "code",
   "execution_count": null,
   "metadata": {},
   "outputs": [],
   "source": [
    "import matplotlib.colors as colors  # import it to display in logscale\n",
    "\n",
    "fig = plt.figure(figsize=(12, 4))\n",
    "#mesh = plt.pcolormesh(spec.epoch, spec.frequency,\n",
    "#                      spec.Eu_power, cmap='inferno', norm=colors.LogNorm())\n",
    "mesh = plt.pcolormesh(spec.epoch, spec.frequency,\n",
    "                      spec.Eu_power_dBm, cmap='inferno')\n",
    "plt.colorbar(mesh, label='Power [dBm@ADC input]')\n",
    "plt.ylabel('Frequency [kHz]')\n",
    "plt.xlabel('Time')"
   ]
  }
 ],
 "metadata": {
  "kernelspec": {
   "display_name": "Python 3",
   "language": "python",
   "name": "python3"
  },
  "language_info": {
   "codemirror_mode": {
    "name": "ipython",
    "version": 3
   },
   "file_extension": ".py",
   "mimetype": "text/x-python",
   "name": "python",
   "nbconvert_exporter": "python",
   "pygments_lexer": "ipython3",
   "version": "3.10.5"
  },
  "orig_nbformat": 4,
  "vscode": {
   "interpreter": {
    "hash": "0446e2cd9e70aecaa5b62c77e58a7cce8383cd48fff23e4f772d376dd5c64fc6"
   }
  }
 },
 "nbformat": 4,
 "nbformat_minor": 2
}
